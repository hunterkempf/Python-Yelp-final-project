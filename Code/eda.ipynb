{
 "cells": [
  {
   "cell_type": "code",
   "execution_count": 1,
   "metadata": {
    "collapsed": true
   },
   "outputs": [],
   "source": [
    "import pandas as pd\n",
    "import numpy as np\n",
    "from matplotlib import pyplot as plt\n",
    "from matplotlib import cm"
   ]
  },
  {
   "cell_type": "code",
   "execution_count": 3,
   "metadata": {
    "collapsed": true
   },
   "outputs": [],
   "source": [
    "yelp = pd.read_csv('Python-Yelp-Final-Project/yelp_academic_dataset_business.csv',\n",
    "                   usecols = [\"categories\",\"city\",\"latitude\",\"longitude\",\"name\",\"review_count\",\"stars\",\"state\"])"
   ]
  },
  {
   "cell_type": "code",
   "execution_count": 4,
   "metadata": {},
   "outputs": [
    {
     "name": "stdout",
     "output_type": "stream",
     "text": [
      "<class 'pandas.core.frame.DataFrame'>\n",
      "RangeIndex: 188593 entries, 0 to 188592\n",
      "Data columns (total 8 columns):\n",
      "categories      188052 non-null object\n",
      "city            188583 non-null object\n",
      "latitude        188587 non-null float64\n",
      "longitude       188587 non-null float64\n",
      "name            188593 non-null object\n",
      "review_count    188593 non-null int64\n",
      "stars           188593 non-null float64\n",
      "state           188593 non-null object\n",
      "dtypes: float64(3), int64(1), object(4)\n",
      "memory usage: 11.5+ MB\n"
     ]
    }
   ],
   "source": [
    "yelp.info()"
   ]
  },
  {
   "cell_type": "markdown",
   "metadata": {},
   "source": [
    "# Split Category data and make data set long\n",
    "this will allow us to determine average star ratings for individual category elements. [Note: while discussing my code in the peer review, this section was liked so much by my peers that many of them talked about trying to implement this style of solution in their code! I would say because of that the way I handled categories was the strongest part of my code.]\n"
   ]
  },
  {
   "cell_type": "code",
   "execution_count": 5,
   "metadata": {},
   "outputs": [
    {
     "name": "stdout",
     "output_type": "stream",
     "text": [
      "Median review count for individual businesses: 9.0\n"
     ]
    }
   ],
   "source": [
    "#split categories up into separate columns instead of comma separated all in the same column\n",
    "yelp2 = pd.concat([yelp,yelp.categories.str.split(',',expand=True)],1)\n",
    "#drop old categories column\n",
    "yelp2 = yelp2.drop(['categories'],axis = 1)\n",
    "#take wide data and make it long by grouping category columns to one \n",
    "yelp_long = pd.melt(yelp2,id_vars = [\"city\",\"latitude\",\"longitude\",\"name\",\"review_count\",\"stars\",\"state\"],value_name = 'category')\n",
    "# get rid of businesses with less than the median review count to avoid skewed results\n",
    "print(\"Median review count for individual businesses:\",yelp_long.review_count.median())\n",
    "review_mask = yelp_long.review_count>yelp_long.review_count.median()\n",
    "yelp_long = yelp_long[review_mask]\n",
    "#get rid of variable column\n",
    "yelp_long = yelp_long.drop(['variable'],axis = 1)\n",
    "#strip white spaces from category column\n",
    "yelp_long.category = yelp_long.category.str.strip()"
   ]
  },
  {
   "cell_type": "code",
   "execution_count": 20,
   "metadata": {},
   "outputs": [
    {
     "data": {
      "text/html": [
       "<div>\n",
       "<style scoped>\n",
       "    .dataframe tbody tr th:only-of-type {\n",
       "        vertical-align: middle;\n",
       "    }\n",
       "\n",
       "    .dataframe tbody tr th {\n",
       "        vertical-align: top;\n",
       "    }\n",
       "\n",
       "    .dataframe thead th {\n",
       "        text-align: right;\n",
       "    }\n",
       "</style>\n",
       "<table border=\"1\" class=\"dataframe\">\n",
       "  <thead>\n",
       "    <tr style=\"text-align: right;\">\n",
       "      <th></th>\n",
       "      <th>city</th>\n",
       "      <th>latitude</th>\n",
       "      <th>longitude</th>\n",
       "      <th>name</th>\n",
       "      <th>review_count</th>\n",
       "      <th>stars</th>\n",
       "      <th>state</th>\n",
       "      <th>0</th>\n",
       "      <th>1</th>\n",
       "      <th>2</th>\n",
       "      <th>...</th>\n",
       "      <th>27</th>\n",
       "      <th>28</th>\n",
       "      <th>29</th>\n",
       "      <th>30</th>\n",
       "      <th>31</th>\n",
       "      <th>32</th>\n",
       "      <th>33</th>\n",
       "      <th>34</th>\n",
       "      <th>35</th>\n",
       "      <th>36</th>\n",
       "    </tr>\n",
       "  </thead>\n",
       "  <tbody>\n",
       "    <tr>\n",
       "      <th>0</th>\n",
       "      <td>Calgary</td>\n",
       "      <td>51.091813</td>\n",
       "      <td>-114.031675</td>\n",
       "      <td>Minhas Micro Brewery</td>\n",
       "      <td>24</td>\n",
       "      <td>4.0</td>\n",
       "      <td>AB</td>\n",
       "      <td>Tours</td>\n",
       "      <td>Breweries</td>\n",
       "      <td>Pizza</td>\n",
       "      <td>...</td>\n",
       "      <td>None</td>\n",
       "      <td>None</td>\n",
       "      <td>None</td>\n",
       "      <td>None</td>\n",
       "      <td>None</td>\n",
       "      <td>None</td>\n",
       "      <td>None</td>\n",
       "      <td>None</td>\n",
       "      <td>None</td>\n",
       "      <td>None</td>\n",
       "    </tr>\n",
       "    <tr>\n",
       "      <th>1</th>\n",
       "      <td>Henderson</td>\n",
       "      <td>35.960734</td>\n",
       "      <td>-114.939821</td>\n",
       "      <td>CK'S BBQ &amp; Catering</td>\n",
       "      <td>3</td>\n",
       "      <td>4.5</td>\n",
       "      <td>NV</td>\n",
       "      <td>Chicken Wings</td>\n",
       "      <td>Burgers</td>\n",
       "      <td>Caterers</td>\n",
       "      <td>...</td>\n",
       "      <td>None</td>\n",
       "      <td>None</td>\n",
       "      <td>None</td>\n",
       "      <td>None</td>\n",
       "      <td>None</td>\n",
       "      <td>None</td>\n",
       "      <td>None</td>\n",
       "      <td>None</td>\n",
       "      <td>None</td>\n",
       "      <td>None</td>\n",
       "    </tr>\n",
       "    <tr>\n",
       "      <th>2</th>\n",
       "      <td>Montréal</td>\n",
       "      <td>45.540503</td>\n",
       "      <td>-73.599300</td>\n",
       "      <td>La Bastringue</td>\n",
       "      <td>5</td>\n",
       "      <td>4.0</td>\n",
       "      <td>QC</td>\n",
       "      <td>Breakfast &amp; Brunch</td>\n",
       "      <td>Restaurants</td>\n",
       "      <td>French</td>\n",
       "      <td>...</td>\n",
       "      <td>None</td>\n",
       "      <td>None</td>\n",
       "      <td>None</td>\n",
       "      <td>None</td>\n",
       "      <td>None</td>\n",
       "      <td>None</td>\n",
       "      <td>None</td>\n",
       "      <td>None</td>\n",
       "      <td>None</td>\n",
       "      <td>None</td>\n",
       "    </tr>\n",
       "    <tr>\n",
       "      <th>3</th>\n",
       "      <td>Phoenix</td>\n",
       "      <td>33.449999</td>\n",
       "      <td>-112.076979</td>\n",
       "      <td>Geico Insurance</td>\n",
       "      <td>8</td>\n",
       "      <td>1.5</td>\n",
       "      <td>AZ</td>\n",
       "      <td>Insurance</td>\n",
       "      <td>Financial Services</td>\n",
       "      <td>None</td>\n",
       "      <td>...</td>\n",
       "      <td>None</td>\n",
       "      <td>None</td>\n",
       "      <td>None</td>\n",
       "      <td>None</td>\n",
       "      <td>None</td>\n",
       "      <td>None</td>\n",
       "      <td>None</td>\n",
       "      <td>None</td>\n",
       "      <td>None</td>\n",
       "      <td>None</td>\n",
       "    </tr>\n",
       "    <tr>\n",
       "      <th>4</th>\n",
       "      <td>Calgary</td>\n",
       "      <td>51.035591</td>\n",
       "      <td>-114.027366</td>\n",
       "      <td>Action Engine</td>\n",
       "      <td>4</td>\n",
       "      <td>2.0</td>\n",
       "      <td>AB</td>\n",
       "      <td>Home &amp; Garden</td>\n",
       "      <td>Nurseries &amp; Gardening</td>\n",
       "      <td>Shopping</td>\n",
       "      <td>...</td>\n",
       "      <td>None</td>\n",
       "      <td>None</td>\n",
       "      <td>None</td>\n",
       "      <td>None</td>\n",
       "      <td>None</td>\n",
       "      <td>None</td>\n",
       "      <td>None</td>\n",
       "      <td>None</td>\n",
       "      <td>None</td>\n",
       "      <td>None</td>\n",
       "    </tr>\n",
       "  </tbody>\n",
       "</table>\n",
       "<p>5 rows × 44 columns</p>\n",
       "</div>"
      ],
      "text/plain": [
       "        city   latitude   longitude                  name  review_count  \\\n",
       "0    Calgary  51.091813 -114.031675  Minhas Micro Brewery            24   \n",
       "1  Henderson  35.960734 -114.939821   CK'S BBQ & Catering             3   \n",
       "2   Montréal  45.540503  -73.599300         La Bastringue             5   \n",
       "3    Phoenix  33.449999 -112.076979       Geico Insurance             8   \n",
       "4    Calgary  51.035591 -114.027366         Action Engine             4   \n",
       "\n",
       "   stars state                   0                       1          2  ...   \\\n",
       "0    4.0    AB               Tours               Breweries      Pizza  ...    \n",
       "1    4.5    NV       Chicken Wings                 Burgers   Caterers  ...    \n",
       "2    4.0    QC  Breakfast & Brunch             Restaurants     French  ...    \n",
       "3    1.5    AZ           Insurance      Financial Services       None  ...    \n",
       "4    2.0    AB       Home & Garden   Nurseries & Gardening   Shopping  ...    \n",
       "\n",
       "     27    28    29    30    31    32    33    34    35    36  \n",
       "0  None  None  None  None  None  None  None  None  None  None  \n",
       "1  None  None  None  None  None  None  None  None  None  None  \n",
       "2  None  None  None  None  None  None  None  None  None  None  \n",
       "3  None  None  None  None  None  None  None  None  None  None  \n",
       "4  None  None  None  None  None  None  None  None  None  None  \n",
       "\n",
       "[5 rows x 44 columns]"
      ]
     },
     "execution_count": 20,
     "metadata": {},
     "output_type": "execute_result"
    }
   ],
   "source": [
    "yelp2.head()"
   ]
  },
  {
   "cell_type": "markdown",
   "metadata": {},
   "source": [
    "# Reduce Data Set Size\n",
    "Now that the data is in the long form notice that we still have many rows that are unnecessary and have None in them as an artifact from the way the category data was split out to columns. 226 MB is a large dataset! This data will be reduced by ~10x down to 22 MB just by removing rows with null values in the category column and will improve computational efficiency of the code."
   ]
  },
  {
   "cell_type": "code",
   "execution_count": 6,
   "metadata": {},
   "outputs": [
    {
     "name": "stdout",
     "output_type": "stream",
     "text": [
      "<class 'pandas.core.frame.DataFrame'>\n",
      "Int64Index: 3294517 entries, 0 to 6977939\n",
      "Data columns (total 8 columns):\n",
      "city            object\n",
      "latitude        float64\n",
      "longitude       float64\n",
      "name            object\n",
      "review_count    int64\n",
      "stars           float64\n",
      "state           object\n",
      "category        object\n",
      "dtypes: float64(3), int64(1), object(4)\n",
      "memory usage: 226.2+ MB\n"
     ]
    }
   ],
   "source": [
    "yelp_long.info()"
   ]
  },
  {
   "cell_type": "code",
   "execution_count": 7,
   "metadata": {
    "collapsed": true
   },
   "outputs": [],
   "source": [
    "#remove categories that are blank from the str split function earlier\n",
    "yelp_long = yelp_long[pd.notnull(yelp_long.category)]\n",
    "yelp_long.index = range(len(yelp_long))"
   ]
  },
  {
   "cell_type": "code",
   "execution_count": 8,
   "metadata": {},
   "outputs": [
    {
     "name": "stdout",
     "output_type": "stream",
     "text": [
      "<class 'pandas.core.frame.DataFrame'>\n",
      "RangeIndex: 371156 entries, 0 to 371155\n",
      "Data columns (total 8 columns):\n",
      "city            371143 non-null object\n",
      "latitude        371141 non-null float64\n",
      "longitude       371141 non-null float64\n",
      "name            371156 non-null object\n",
      "review_count    371156 non-null int64\n",
      "stars           371156 non-null float64\n",
      "state           371156 non-null object\n",
      "category        371156 non-null object\n",
      "dtypes: float64(3), int64(1), object(4)\n",
      "memory usage: 22.7+ MB\n"
     ]
    }
   ],
   "source": [
    "yelp_long.info()"
   ]
  },
  {
   "cell_type": "markdown",
   "metadata": {},
   "source": [
    "# Group by City and aggregate stars and reviews\n",
    "The group by city will allow us to determine average star rating by city to find the easiest cities for ratings which will allow our business to get great yelp reviews. Keeping the review counts will allow us to pick a bigger city out of the easiest cities so the potential customer base will be high which is better for the business to be successful"
   ]
  },
  {
   "cell_type": "code",
   "execution_count": 9,
   "metadata": {},
   "outputs": [
    {
     "name": "stdout",
     "output_type": "stream",
     "text": [
      "Average review counts in each city: 38262\n"
     ]
    }
   ],
   "source": [
    "#Find Eligible Cities to put a new business in by grouping by city and summarizing stars and review counts\n",
    "yelp_long_cities = yelp_long.groupby('city').agg({'stars':np.mean,'review_count':np.sum})\n",
    "print(\"Average review counts in each city:\",round(yelp_long_cities.review_count.mean()))\n",
    "# select only cities that have above the average number of reviews to avoid cities that may have skewed \n",
    "# data by only having a few reviews \n",
    "big_city_mask = yelp_long_cities.review_count > yelp_long_cities.review_count.mean()\n",
    "yelp_long_big_cities = yelp_long_cities[big_city_mask].sort_values('stars',ascending = False)[0:7]\n"
   ]
  },
  {
   "cell_type": "code",
   "execution_count": 10,
   "metadata": {},
   "outputs": [
    {
     "data": {
      "text/plain": [
       "([0, 1, 2, 3, 4, 5, 6], <a list of 7 Text xticklabel objects>)"
      ]
     },
     "execution_count": 10,
     "metadata": {},
     "output_type": "execute_result"
    },
    {
     "data": {
      "image/png": "[encoded data removed]",
      "text/plain": [
       "<Figure size 432x288 with 1 Axes>"
      ]
     },
     "metadata": {},
     "output_type": "display_data"
    }
   ],
   "source": [
    "# plot out average stars from bigger cities to find the easiest cities to get high star ratings in\n",
    "fig, axes = plt.subplots()\n",
    "axes.bar(x=yelp_long_big_cities.index,height = yelp_long_big_cities.stars)\n",
    "plt.xticks(rotation=45)"
   ]
  },
  {
   "cell_type": "code",
   "execution_count": 11,
   "metadata": {},
   "outputs": [
    {
     "data": {
      "text/html": [
       "<div>\n",
       "<style scoped>\n",
       "    .dataframe tbody tr th:only-of-type {\n",
       "        vertical-align: middle;\n",
       "    }\n",
       "\n",
       "    .dataframe tbody tr th {\n",
       "        vertical-align: top;\n",
       "    }\n",
       "\n",
       "    .dataframe thead th {\n",
       "        text-align: right;\n",
       "    }\n",
       "</style>\n",
       "<table border=\"1\" class=\"dataframe\">\n",
       "  <thead>\n",
       "    <tr style=\"text-align: right;\">\n",
       "      <th></th>\n",
       "      <th>stars</th>\n",
       "      <th>review_count</th>\n",
       "    </tr>\n",
       "    <tr>\n",
       "      <th>city</th>\n",
       "      <th></th>\n",
       "      <th></th>\n",
       "    </tr>\n",
       "  </thead>\n",
       "  <tbody>\n",
       "    <tr>\n",
       "      <th>Scottsdale</th>\n",
       "      <td>3.984358</td>\n",
       "      <td>1674397</td>\n",
       "    </tr>\n",
       "    <tr>\n",
       "      <th>Henderson</th>\n",
       "      <td>3.830236</td>\n",
       "      <td>852319</td>\n",
       "    </tr>\n",
       "    <tr>\n",
       "      <th>Montréal</th>\n",
       "      <td>3.826671</td>\n",
       "      <td>488137</td>\n",
       "    </tr>\n",
       "    <tr>\n",
       "      <th>Gilbert</th>\n",
       "      <td>3.844148</td>\n",
       "      <td>482664</td>\n",
       "    </tr>\n",
       "    <tr>\n",
       "      <th>Lakewood</th>\n",
       "      <td>3.858005</td>\n",
       "      <td>73893</td>\n",
       "    </tr>\n",
       "    <tr>\n",
       "      <th>Cave Creek</th>\n",
       "      <td>4.037923</td>\n",
       "      <td>50382</td>\n",
       "    </tr>\n",
       "    <tr>\n",
       "      <th>Boulder City</th>\n",
       "      <td>3.986056</td>\n",
       "      <td>38508</td>\n",
       "    </tr>\n",
       "  </tbody>\n",
       "</table>\n",
       "</div>"
      ],
      "text/plain": [
       "                 stars  review_count\n",
       "city                                \n",
       "Scottsdale    3.984358       1674397\n",
       "Henderson     3.830236        852319\n",
       "Montréal      3.826671        488137\n",
       "Gilbert       3.844148        482664\n",
       "Lakewood      3.858005         73893\n",
       "Cave Creek    4.037923         50382\n",
       "Boulder City  3.986056         38508"
      ]
     },
     "execution_count": 11,
     "metadata": {},
     "output_type": "execute_result"
    }
   ],
   "source": [
    "most_reviews_remaining=yelp_long_big_cities.sort_values('review_count',ascending = False)\n",
    "most_reviews_remaining"
   ]
  },
  {
   "cell_type": "code",
   "execution_count": 12,
   "metadata": {},
   "outputs": [
    {
     "data": {
      "text/plain": [
       "([0, 1, 2, 3, 4, 5, 6], <a list of 7 Text xticklabel objects>)"
      ]
     },
     "execution_count": 12,
     "metadata": {},
     "output_type": "execute_result"
    },
    {
     "data": {
      "image/png": "[encoded data removed]",
      "text/plain": [
       "<Figure size 432x288 with 1 Axes>"
      ]
     },
     "metadata": {},
     "output_type": "display_data"
    }
   ],
   "source": [
    "# plot out total reviews from top cities to find biggest yelp market\n",
    "\n",
    "colors = cm.coolwarm(most_reviews_remaining.review_count / float(max(most_reviews_remaining.review_count)))\n",
    "fig, axes = plt.subplots()\n",
    "axes.bar(x=most_reviews_remaining.index,height = most_reviews_remaining.review_count,color=colors)\n",
    "plt.xticks(rotation=45)"
   ]
  },
  {
   "cell_type": "markdown",
   "metadata": {},
   "source": [
    "# City Decision : Scottsdale\n",
    "Based on the two graphs we can see that sorting for average ratings for cities and picking the top cities then sorting by review counts Scottsdale seems like the obvious choice for a city to start a new business in. Next we will determine what the best type of business to start in Scottsdale would be."
   ]
  },
  {
   "cell_type": "code",
   "execution_count": 13,
   "metadata": {
    "collapsed": true
   },
   "outputs": [],
   "source": [
    "# Determine what businesses are best in \n",
    "easy_city_mask = yelp_long.city.isin(yelp_long_big_cities.index.tolist())\n",
    "yelp_long_easy_cities = yelp_long[easy_city_mask]"
   ]
  },
  {
   "cell_type": "code",
   "execution_count": 17,
   "metadata": {
    "collapsed": true
   },
   "outputs": [],
   "source": [
    "scottsdale_mask = yelp_long.city.isin(['Scottsdale'])\n",
    "scottsdale_businesses = yelp_long[scottsdale_mask].groupby('category').agg({'stars':np.mean,'review_count':np.sum})"
   ]
  },
  {
   "cell_type": "code",
   "execution_count": 15,
   "metadata": {},
   "outputs": [
    {
     "name": "stdout",
     "output_type": "stream",
     "text": [
      "Average review counts in each category of cities: 3550\n"
     ]
    }
   ],
   "source": [
    "#Find the Categories that are lowest rated in these easier cities\n",
    "yelp_long_easy_cities_grouped_category = yelp_long_easy_cities.groupby('category').agg({'stars':np.mean,'review_count':np.sum})\n",
    "print(\"Average review counts in each category of cities:\",round(yelp_long_easy_cities_grouped_category.review_count.mean()))\n"
   ]
  },
  {
   "cell_type": "code",
   "execution_count": 18,
   "metadata": {},
   "outputs": [
    {
     "data": {
      "text/html": [
       "<div>\n",
       "<style scoped>\n",
       "    .dataframe tbody tr th:only-of-type {\n",
       "        vertical-align: middle;\n",
       "    }\n",
       "\n",
       "    .dataframe tbody tr th {\n",
       "        vertical-align: top;\n",
       "    }\n",
       "\n",
       "    .dataframe thead th {\n",
       "        text-align: right;\n",
       "    }\n",
       "</style>\n",
       "<table border=\"1\" class=\"dataframe\">\n",
       "  <thead>\n",
       "    <tr style=\"text-align: right;\">\n",
       "      <th></th>\n",
       "      <th>Overall_Average_Stars</th>\n",
       "      <th>Overall_Total_Reviews</th>\n",
       "      <th>stars</th>\n",
       "      <th>review_count</th>\n",
       "    </tr>\n",
       "    <tr>\n",
       "      <th>category</th>\n",
       "      <th></th>\n",
       "      <th></th>\n",
       "      <th></th>\n",
       "      <th></th>\n",
       "    </tr>\n",
       "  </thead>\n",
       "  <tbody>\n",
       "    <tr>\n",
       "      <th>Brazilian Jiu-jitsu</th>\n",
       "      <td>4.947368</td>\n",
       "      <td>418</td>\n",
       "      <td>NaN</td>\n",
       "      <td>NaN</td>\n",
       "    </tr>\n",
       "    <tr>\n",
       "      <th>Self-defense Classes</th>\n",
       "      <td>4.884615</td>\n",
       "      <td>792</td>\n",
       "      <td>NaN</td>\n",
       "      <td>NaN</td>\n",
       "    </tr>\n",
       "    <tr>\n",
       "      <th>Hot Air Balloons</th>\n",
       "      <td>4.857143</td>\n",
       "      <td>831</td>\n",
       "      <td>NaN</td>\n",
       "      <td>NaN</td>\n",
       "    </tr>\n",
       "    <tr>\n",
       "      <th>Mobile Dent Repair</th>\n",
       "      <td>4.826087</td>\n",
       "      <td>1465</td>\n",
       "      <td>NaN</td>\n",
       "      <td>NaN</td>\n",
       "    </tr>\n",
       "    <tr>\n",
       "      <th>First Aid Classes</th>\n",
       "      <td>4.812500</td>\n",
       "      <td>488</td>\n",
       "      <td>NaN</td>\n",
       "      <td>NaN</td>\n",
       "    </tr>\n",
       "  </tbody>\n",
       "</table>\n",
       "</div>"
      ],
      "text/plain": [
       "                      Overall_Average_Stars  Overall_Total_Reviews  stars  \\\n",
       "category                                                                    \n",
       "Brazilian Jiu-jitsu                4.947368                    418    NaN   \n",
       "Self-defense Classes               4.884615                    792    NaN   \n",
       "Hot Air Balloons                   4.857143                    831    NaN   \n",
       "Mobile Dent Repair                 4.826087                   1465    NaN   \n",
       "First Aid Classes                  4.812500                    488    NaN   \n",
       "\n",
       "                      review_count  \n",
       "category                            \n",
       "Brazilian Jiu-jitsu            NaN  \n",
       "Self-defense Classes           NaN  \n",
       "Hot Air Balloons               NaN  \n",
       "Mobile Dent Repair             NaN  \n",
       "First Aid Classes              NaN  "
      ]
     },
     "execution_count": 18,
     "metadata": {},
     "output_type": "execute_result"
    }
   ],
   "source": [
    "#Find the General averages for all categories and associated total reviews\n",
    "yelp_long_categories = yelp_long.groupby('category').aggregate({'stars':np.mean,'review_count':np.sum})\n",
    "yelp_long_categories.columns = ['Overall_Average_Stars','Overall_Total_Reviews']\n",
    "#Join these averages with the averages from easy cities in a new dataframe\n",
    "yelp_long_adjusted_stars = yelp_long_categories.join(scottsdale_businesses)\n",
    "#Get rid of categories with low total reviews because they will not be statistically significant data\n",
    "review_mask = yelp_long_adjusted_stars.Overall_Total_Reviews > 150\n",
    "yelp_long_adjusted_stars = yelp_long_adjusted_stars[review_mask]\n",
    "# Now see what businesses categories average high star ratings but arent in these easy rating cities\n",
    "business_ideas = yelp_long_adjusted_stars[yelp_long_adjusted_stars.stars.isna()].sort_values('Overall_Average_Stars',ascending = False)\n",
    "best_business_ideas = business_ideas[0:5]\n",
    "best_business_ideas"
   ]
  },
  {
   "cell_type": "code",
   "execution_count": 19,
   "metadata": {},
   "outputs": [
    {
     "data": {
      "text/plain": [
       "([0, 1, 2, 3, 4], <a list of 5 Text xticklabel objects>)"
      ]
     },
     "execution_count": 19,
     "metadata": {},
     "output_type": "execute_result"
    },
    {
     "data": {
      "image/png": "[encoded data removed]",
      "text/plain": [
       "<Figure size 432x288 with 1 Axes>"
      ]
     },
     "metadata": {},
     "output_type": "display_data"
    }
   ],
   "source": [
    "# plot out average stars from bigger cities to find the easiest cities to get high star ratings in\n",
    "fig, axes = plt.subplots()\n",
    "axes.bar(x=best_business_ideas.index,height = best_business_ideas.Overall_Average_Stars,color='green')\n",
    "plt.xticks(rotation=90)"
   ]
  },
  {
   "cell_type": "markdown",
   "metadata": {},
   "source": [
    "# Business Decision: Brazilian Jiu-Jitsu/Self-defense Classes\n",
    "\n",
    "By selecting highly rated business categories that are not already in Scottsdale we are able to see the list of good business opportunities that have not been opened in Scottsdale yet. This strategy works in our case because the results are not location related businesses. If we got results that needed natural resources like a lake, ski slope or beach we would need to ignore those and move to the first location agnostic idea."
   ]
  },
  {
   "cell_type": "code",
   "execution_count": null,
   "metadata": {
    "collapsed": true
   },
   "outputs": [],
   "source": []
  }
 ],
 "metadata": {
  "kernelspec": {
   "display_name": "Python 3",
   "language": "python",
   "name": "python3"
  },
  "language_info": {
   "codemirror_mode": {
    "name": "ipython",
    "version": 3
   },
   "file_extension": ".py",
   "mimetype": "text/x-python",
   "name": "python",
   "nbconvert_exporter": "python",
   "pygments_lexer": "ipython3",
   "version": "3.5.2"
  }
 },
 "nbformat": 4,
 "nbformat_minor": 2
}
